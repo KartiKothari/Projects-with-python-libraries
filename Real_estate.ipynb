{
 "cells": [
  {
   "cell_type": "code",
   "execution_count": 102,
   "id": "289bd57e-a50e-44a1-a07e-5a90dfdd34da",
   "metadata": {},
   "outputs": [
    {
     "data": {
      "text/plain": [
       "'$152,000'"
      ]
     },
     "execution_count": 102,
     "metadata": {},
     "output_type": "execute_result"
    }
   ],
   "source": [
    "import requests\n",
    "from bs4 import BeautifulSoup\n",
    "\n",
    "r=requests.get(\"https://www.century21.com/real-estate/rock-springs-wy/LCWYROCKSPRINGS/\")\n",
    "c=r.content\n",
    "\n",
    "soup=BeautifulSoup(c,\"html.parser\")\n",
    "\n",
    "all=soup.find_all(\"div\",{\"class\":\"property-card-primary-info\"})\n",
    "\n",
    "all[0].find(\"a\",{\"class\":\"listing-price\"}).text.replace(\"\\n\",\"\").replace(\" \",\"\")"
   ]
  },
  {
   "cell_type": "code",
   "execution_count": 108,
   "id": "c9f2f840-8cbc-40de-b96f-486563e75de5",
   "metadata": {},
   "outputs": [],
   "source": [
    "l=[]\n",
    "for item in all:\n",
    "    d={}\n",
    "    d[\"Price\"]=item.find(\"a\",{\"class\":\"listing-price\"}).text.replace(\"\\n\",\"\").replace(\" \",\"\")\n",
    "    d[\"Address\"]=(item.find(\"div\",{\"property-address-info\"}).text).replace(\"\\n\",\"\").replace(\" \",\"\")\n",
    "    try:\n",
    "        d[\"Area\"]=(item.find(\"div\",{\"class\",\"property-sqft\"}).find(\"strong\").text)\n",
    "    except:\n",
    "        d[\"Area\"]=(None)\n",
    "    try:\n",
    "        d[\"Beds\"]=(item.find(\"div\",{\"class\",\"property-beds\"}).find(\"strong\").text)\n",
    "    except:\n",
    "        d[\"Beds\"]=None\n",
    "    try:    \n",
    "        d[\"Baths\"]=(item.find(\"div\",{\"class\",\"property-baths\"}).find(\"strong\").text)\n",
    "    except:\n",
    "        d[\"Baths\"]=None\n",
    "    l.append(d)"
   ]
  },
  {
   "cell_type": "code",
   "execution_count": 109,
   "id": "51b93ac6-3704-4747-aaa2-e1d33d432589",
   "metadata": {},
   "outputs": [
    {
     "data": {
      "text/plain": [
       "[{'Price': '$152,000',\n",
       "  'Address': '109ClearviewDriveRockSpringsWY82901',\n",
       "  'Area': '1,688',\n",
       "  'Beds': '3',\n",
       "  'Baths': '2'},\n",
       " {'Price': '$79,000',\n",
       "  'Address': '222GatewayBlvd14RockSpringsWY82901',\n",
       "  'Area': '975',\n",
       "  'Beds': '3',\n",
       "  'Baths': '2'},\n",
       " {'Price': '$241,300',\n",
       "  'Address': '1111McCabeStreetRockSpringsWY82901',\n",
       "  'Area': '1,768',\n",
       "  'Beds': '4',\n",
       "  'Baths': '2'},\n",
       " {'Price': '$368,000',\n",
       "  'Address': '3826BlueHeronRockSpringsWY82901',\n",
       "  'Area': '4,104',\n",
       "  'Beds': '5',\n",
       "  'Baths': '3'},\n",
       " {'Price': '$187,000',\n",
       "  'Address': '1184PalisadesRockSpringsWY82901',\n",
       "  'Area': '1,824',\n",
       "  'Beds': '3',\n",
       "  'Baths': '2'},\n",
       " {'Price': '$1,000,000',\n",
       "  'Address': '2794FoothillBoulevardRockSpringsWY82901',\n",
       "  'Area': None,\n",
       "  'Beds': None,\n",
       "  'Baths': None},\n",
       " {'Price': '$295,000',\n",
       "  'Address': 'TbdYELLOWSTONERD.RockSpringsWY82901',\n",
       "  'Area': None,\n",
       "  'Beds': None,\n",
       "  'Baths': None},\n",
       " {'Price': '$975,000',\n",
       "  'Address': '0StagecoachBlvd.RockSpringsWY82901',\n",
       "  'Area': None,\n",
       "  'Beds': None,\n",
       "  'Baths': None},\n",
       " {'Price': '$214,900',\n",
       "  'Address': '828RhodeIslandAveRockSpringsWY82901',\n",
       "  'Area': '1,397',\n",
       "  'Beds': '4',\n",
       "  'Baths': '2'}]"
      ]
     },
     "execution_count": 109,
     "metadata": {},
     "output_type": "execute_result"
    }
   ],
   "source": [
    "l\n"
   ]
  },
  {
   "cell_type": "code",
   "execution_count": 111,
   "id": "c3d77b4c-627c-44a9-89b9-5b9816e6c6bd",
   "metadata": {},
   "outputs": [],
   "source": [
    "import pandas\n",
    "df=pandas.DataFrame(l)"
   ]
  },
  {
   "cell_type": "code",
   "execution_count": 112,
   "id": "b41f0a7c-8275-4cd8-a361-04d8ec2eb06f",
   "metadata": {},
   "outputs": [
    {
     "data": {
      "text/html": [
       "<div>\n",
       "<style scoped>\n",
       "    .dataframe tbody tr th:only-of-type {\n",
       "        vertical-align: middle;\n",
       "    }\n",
       "\n",
       "    .dataframe tbody tr th {\n",
       "        vertical-align: top;\n",
       "    }\n",
       "\n",
       "    .dataframe thead th {\n",
       "        text-align: right;\n",
       "    }\n",
       "</style>\n",
       "<table border=\"1\" class=\"dataframe\">\n",
       "  <thead>\n",
       "    <tr style=\"text-align: right;\">\n",
       "      <th></th>\n",
       "      <th>Price</th>\n",
       "      <th>Address</th>\n",
       "      <th>Area</th>\n",
       "      <th>Beds</th>\n",
       "      <th>Baths</th>\n",
       "    </tr>\n",
       "  </thead>\n",
       "  <tbody>\n",
       "    <tr>\n",
       "      <th>0</th>\n",
       "      <td>$152,000</td>\n",
       "      <td>109ClearviewDriveRockSpringsWY82901</td>\n",
       "      <td>1,688</td>\n",
       "      <td>3</td>\n",
       "      <td>2</td>\n",
       "    </tr>\n",
       "    <tr>\n",
       "      <th>1</th>\n",
       "      <td>$79,000</td>\n",
       "      <td>222GatewayBlvd14RockSpringsWY82901</td>\n",
       "      <td>975</td>\n",
       "      <td>3</td>\n",
       "      <td>2</td>\n",
       "    </tr>\n",
       "    <tr>\n",
       "      <th>2</th>\n",
       "      <td>$241,300</td>\n",
       "      <td>1111McCabeStreetRockSpringsWY82901</td>\n",
       "      <td>1,768</td>\n",
       "      <td>4</td>\n",
       "      <td>2</td>\n",
       "    </tr>\n",
       "    <tr>\n",
       "      <th>3</th>\n",
       "      <td>$368,000</td>\n",
       "      <td>3826BlueHeronRockSpringsWY82901</td>\n",
       "      <td>4,104</td>\n",
       "      <td>5</td>\n",
       "      <td>3</td>\n",
       "    </tr>\n",
       "    <tr>\n",
       "      <th>4</th>\n",
       "      <td>$187,000</td>\n",
       "      <td>1184PalisadesRockSpringsWY82901</td>\n",
       "      <td>1,824</td>\n",
       "      <td>3</td>\n",
       "      <td>2</td>\n",
       "    </tr>\n",
       "    <tr>\n",
       "      <th>5</th>\n",
       "      <td>$1,000,000</td>\n",
       "      <td>2794FoothillBoulevardRockSpringsWY82901</td>\n",
       "      <td>None</td>\n",
       "      <td>None</td>\n",
       "      <td>None</td>\n",
       "    </tr>\n",
       "    <tr>\n",
       "      <th>6</th>\n",
       "      <td>$295,000</td>\n",
       "      <td>TbdYELLOWSTONERD.RockSpringsWY82901</td>\n",
       "      <td>None</td>\n",
       "      <td>None</td>\n",
       "      <td>None</td>\n",
       "    </tr>\n",
       "    <tr>\n",
       "      <th>7</th>\n",
       "      <td>$975,000</td>\n",
       "      <td>0StagecoachBlvd.RockSpringsWY82901</td>\n",
       "      <td>None</td>\n",
       "      <td>None</td>\n",
       "      <td>None</td>\n",
       "    </tr>\n",
       "    <tr>\n",
       "      <th>8</th>\n",
       "      <td>$214,900</td>\n",
       "      <td>828RhodeIslandAveRockSpringsWY82901</td>\n",
       "      <td>1,397</td>\n",
       "      <td>4</td>\n",
       "      <td>2</td>\n",
       "    </tr>\n",
       "  </tbody>\n",
       "</table>\n",
       "</div>"
      ],
      "text/plain": [
       "        Price                                  Address   Area  Beds Baths\n",
       "0    $152,000      109ClearviewDriveRockSpringsWY82901  1,688     3     2\n",
       "1     $79,000       222GatewayBlvd14RockSpringsWY82901    975     3     2\n",
       "2    $241,300       1111McCabeStreetRockSpringsWY82901  1,768     4     2\n",
       "3    $368,000          3826BlueHeronRockSpringsWY82901  4,104     5     3\n",
       "4    $187,000          1184PalisadesRockSpringsWY82901  1,824     3     2\n",
       "5  $1,000,000  2794FoothillBoulevardRockSpringsWY82901   None  None  None\n",
       "6    $295,000      TbdYELLOWSTONERD.RockSpringsWY82901   None  None  None\n",
       "7    $975,000       0StagecoachBlvd.RockSpringsWY82901   None  None  None\n",
       "8    $214,900      828RhodeIslandAveRockSpringsWY82901  1,397     4     2"
      ]
     },
     "execution_count": 112,
     "metadata": {},
     "output_type": "execute_result"
    }
   ],
   "source": [
    "df"
   ]
  },
  {
   "cell_type": "code",
   "execution_count": 113,
   "id": "e316f4c1-8d6c-4e54-bc4f-71e0ac21d85f",
   "metadata": {},
   "outputs": [],
   "source": [
    "df.to_csv(\"Output.csv\")"
   ]
  },
  {
   "cell_type": "code",
   "execution_count": null,
   "id": "5a3f6503-0f88-4c43-8bd7-b0d65d6dba3a",
   "metadata": {},
   "outputs": [],
   "source": []
  }
 ],
 "metadata": {
  "kernelspec": {
   "display_name": "Python 3 (ipykernel)",
   "language": "python",
   "name": "python3"
  },
  "language_info": {
   "codemirror_mode": {
    "name": "ipython",
    "version": 3
   },
   "file_extension": ".py",
   "mimetype": "text/x-python",
   "name": "python",
   "nbconvert_exporter": "python",
   "pygments_lexer": "ipython3",
   "version": "3.11.4"
  }
 },
 "nbformat": 4,
 "nbformat_minor": 5
}
